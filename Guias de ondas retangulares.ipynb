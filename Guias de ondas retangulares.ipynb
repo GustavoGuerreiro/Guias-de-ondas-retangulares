{
 "cells": [
  {
   "cell_type": "markdown",
   "metadata": {},
   "source": [
    "# GUIAS DE ONDAS RETANGULARES #"
   ]
  },
  {
   "cell_type": "markdown",
   "metadata": {},
   "source": [
    "<h2>Questão 1</h2>"
   ]
  },
  {
   "cell_type": "code",
   "execution_count": 6,
   "metadata": {
    "collapsed": true
   },
   "outputs": [],
   "source": [
    "from math import pi, sqrt\n",
    "\n",
    "def quest1(a,frequencia):\n",
    "    b = a/2\n",
    "    c = 1/sqrt((4*pi*1e-7)*(1/(4*pi*8.9875e9)))\n",
    "    modos = []\n",
    "    quantidade = 0\n",
    "    for m in range(5):\n",
    "        for n in range(5):\n",
    "            freqcorte = (c/(2*pi))*sqrt(((m*pi)/a)**2 + ((n*pi)/b)**2)\n",
    "            if freqcorte < frequencia:\n",
    "                modos += [[m,n]]\n",
    "                quantidade += 1\n",
    "    modos = modos[1::]\n",
    "    quantidade = quantidade - 1\n",
    "    return modos, quantidade"
   ]
  },
  {
   "cell_type": "code",
   "execution_count": 8,
   "metadata": {},
   "outputs": [
    {
     "name": "stdout",
     "output_type": "stream",
     "text": [
      "Os modos são:\n",
      "([[0, 1], [1, 0], [2, 0]], 3)\n"
     ]
    }
   ],
   "source": [
    "z=quest1(3e-2,10e9)\n",
    "print (\"Os modos são:\")\n",
    "print (z)"
   ]
  },
  {
   "cell_type": "markdown",
   "metadata": {},
   "source": [
    "<h2>Questão 2-</h2>"
   ]
  },
  {
   "cell_type": "code",
   "execution_count": 11,
   "metadata": {
    "collapsed": true
   },
   "outputs": [],
   "source": [
    "from math import pi, sqrt\n",
    "\n",
    "def quest2(a,b):\n",
    "    c = 1/sqrt((4*pi*1e-7)*(1/(4*pi*8.9875e9)))\n",
    "    freqs = []\n",
    "    nomes = []\n",
    "    quantidade = 0\n",
    "    menores = [(c/(2*pi))*sqrt(((5*pi)/a)**2 + ((5*pi)/b)**2), (c/(2*pi))*sqrt(((5*pi)/a)**2 + ((5*pi)/b)**2), (c/(2*pi))*sqrt(((5*pi)/a)**2 + ((5*pi)/b)**2)]\n",
    "    for m in range(4):\n",
    "        for n in range(4):\n",
    "            freqcorte = (c/(2*pi))*sqrt(((m*pi)/a)**2 + ((n*pi)/b)**2)\n",
    "            freqs += [freqcorte]\n",
    "            nomes += [[m,n]]\n",
    "            quantidade += 1\n",
    "    freqs= freqs[1::]\n",
    "    for i in range(len(freqs)):\n",
    "        for j in range(3):\n",
    "            if freqs[i]<=menores[j]:\n",
    "                menores[j]=freqs[i]\n",
    "                break\n",
    "        \n",
    "    return menores"
   ]
  },
  {
   "cell_type": "code",
   "execution_count": 12,
   "metadata": {},
   "outputs": [
    {
     "name": "stdout",
     "output_type": "stream",
     "text": [
      "Os valores de menores frequências são\n",
      "[5901409336.189475, 11802818672.37895, 16691706240.70872]\n"
     ]
    }
   ],
   "source": [
    "x=quest2(25.4e-3,12.7e-3)\n",
    "print (\"Os valores de menores frequências são\")\n",
    "print (x)"
   ]
  },
  {
   "cell_type": "markdown",
   "metadata": {},
   "source": [
    "<h2>Questão 3 -</h2>"
   ]
  },
  {
   "cell_type": "code",
   "execution_count": 1,
   "metadata": {
    "collapsed": true
   },
   "outputs": [],
   "source": [
    "from math import pi, sqrt\n",
    "\n",
    "def quest3(freq):\n",
    "    c = 1/sqrt((4*pi*1e-7)*(1/(4*pi*8.9875e9)))\n",
    "    a=c/(2*sqrt(0.1735)*freq)\n",
    "    b=a/2\n",
    "    return a,b"
   ]
  },
  {
   "cell_type": "code",
   "execution_count": 2,
   "metadata": {},
   "outputs": [
    {
     "name": "stdout",
     "output_type": "stream",
     "text": [
      "O valor do 'a' é em metros igual a: \n",
      "0.0599775147322312\n",
      "O valor de 'b' em metros é igual a: \n",
      "0.0299887573661156\n"
     ]
    }
   ],
   "source": [
    "a,b=quest3(6e9)\n",
    "print (\"O valor do 'a' é em metros igual a: \")\n",
    "print (a)\n",
    "print (\"O valor de 'b' em metros é igual a: \")\n",
    "print (b)"
   ]
  },
  {
   "cell_type": "code",
   "execution_count": null,
   "metadata": {
    "collapsed": true
   },
   "outputs": [],
   "source": []
  }
 ],
 "metadata": {
  "kernelspec": {
   "display_name": "Python 3",
   "language": "python",
   "name": "python3"
  },
  "language_info": {
   "codemirror_mode": {
    "name": "ipython",
    "version": 3
   },
   "file_extension": ".py",
   "mimetype": "text/x-python",
   "name": "python",
   "nbconvert_exporter": "python",
   "pygments_lexer": "ipython3",
   "version": "3.6.1"
  }
 },
 "nbformat": 4,
 "nbformat_minor": 2
}
